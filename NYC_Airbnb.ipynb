{
  "nbformat": 4,
  "nbformat_minor": 0,
  "metadata": {
    "colab": {
      "provenance": [],
      "authorship_tag": "ABX9TyNqNK3glNf/OaBFwfPa+ZhT",
      "include_colab_link": true
    },
    "kernelspec": {
      "name": "python3",
      "display_name": "Python 3"
    },
    "language_info": {
      "name": "python"
    }
  },
  "cells": [
    {
      "cell_type": "markdown",
      "metadata": {
        "id": "view-in-github",
        "colab_type": "text"
      },
      "source": [
        "<a href=\"https://colab.research.google.com/github/SanthoshVanamala/DataAnalysis_NYC_Airbnb/blob/main/NYC_Airbnb.ipynb\" target=\"_parent\"><img src=\"https://colab.research.google.com/assets/colab-badge.svg\" alt=\"Open In Colab\"/></a>"
      ]
    },
    {
      "cell_type": "code",
      "source": [
        "!pip install matplotlib"
      ],
      "metadata": {
        "colab": {
          "base_uri": "https://localhost:8080/"
        },
        "id": "oFEcatVDU_Ey",
        "outputId": "a7dc64d9-ce71-457b-ec26-d5a72d196f19"
      },
      "execution_count": 6,
      "outputs": [
        {
          "output_type": "stream",
          "name": "stdout",
          "text": [
            "Requirement already satisfied: matplotlib in /usr/local/lib/python3.10/dist-packages (3.7.1)\n",
            "Requirement already satisfied: contourpy>=1.0.1 in /usr/local/lib/python3.10/dist-packages (from matplotlib) (1.1.1)\n",
            "Requirement already satisfied: cycler>=0.10 in /usr/local/lib/python3.10/dist-packages (from matplotlib) (0.12.1)\n",
            "Requirement already satisfied: fonttools>=4.22.0 in /usr/local/lib/python3.10/dist-packages (from matplotlib) (4.43.1)\n",
            "Requirement already satisfied: kiwisolver>=1.0.1 in /usr/local/lib/python3.10/dist-packages (from matplotlib) (1.4.5)\n",
            "Requirement already satisfied: numpy>=1.20 in /usr/local/lib/python3.10/dist-packages (from matplotlib) (1.23.5)\n",
            "Requirement already satisfied: packaging>=20.0 in /usr/local/lib/python3.10/dist-packages (from matplotlib) (23.2)\n",
            "Requirement already satisfied: pillow>=6.2.0 in /usr/local/lib/python3.10/dist-packages (from matplotlib) (9.4.0)\n",
            "Requirement already satisfied: pyparsing>=2.3.1 in /usr/local/lib/python3.10/dist-packages (from matplotlib) (3.1.1)\n",
            "Requirement already satisfied: python-dateutil>=2.7 in /usr/local/lib/python3.10/dist-packages (from matplotlib) (2.8.2)\n",
            "Requirement already satisfied: six>=1.5 in /usr/local/lib/python3.10/dist-packages (from python-dateutil>=2.7->matplotlib) (1.16.0)\n"
          ]
        }
      ]
    },
    {
      "cell_type": "code",
      "execution_count": 7,
      "metadata": {
        "id": "EBgPc8epzS0g"
      },
      "outputs": [],
      "source": [
        "import pandas as pd\n",
        "import matplotlib.pyplot as plt\n",
        "import seaborn as sns\n",
        "import numpy as np\n",
        "from scipy.stats.mstats import winsorize\n",
        "\n",
        "\n",
        "\n"
      ]
    },
    {
      "cell_type": "markdown",
      "source": [
        "#Load the data"
      ],
      "metadata": {
        "id": "_WaIMceszfTn"
      }
    },
    {
      "cell_type": "code",
      "source": [
        "listings = pd.read_csv(\"/content/listings.csv\", on_bad_lines='skip',encoding=\"ISO-8859-1\")\n"
      ],
      "metadata": {
        "id": "lsPJsIae1oDD"
      },
      "execution_count": 8,
      "outputs": []
    },
    {
      "cell_type": "markdown",
      "source": [
        "#Inspect the data\n",
        "\n",
        "# **DATA CLEANING**"
      ],
      "metadata": {
        "id": "4kXB0orH4Xi2"
      }
    },
    {
      "cell_type": "code",
      "source": [
        "listings.head()"
      ],
      "metadata": {
        "colab": {
          "base_uri": "https://localhost:8080/",
          "height": 794
        },
        "id": "oBwfoEvq4bJU",
        "outputId": "7cc9093f-03e2-4f93-d561-d6aaa8518ee0"
      },
      "execution_count": 9,
      "outputs": [
        {
          "output_type": "execute_result",
          "data": {
            "text/plain": [
              "         id                            listing_url       scrape_id  \\\n",
              "0   9630344   https://www.airbnb.com/rooms/9630344  20231001204715   \n",
              "1   3533741   https://www.airbnb.com/rooms/3533741  20231001204715   \n",
              "2   9731039   https://www.airbnb.com/rooms/9731039  20231001204715   \n",
              "3  21736164  https://www.airbnb.com/rooms/21736164  20231001204715   \n",
              "4  22280002  https://www.airbnb.com/rooms/22280002  20231001204715   \n",
              "\n",
              "  last_scraped           source  \\\n",
              "0   2023-10-02      city scrape   \n",
              "1   2023-10-02  previous scrape   \n",
              "2   2023-10-02  previous scrape   \n",
              "3   2023-10-02  previous scrape   \n",
              "4   2023-10-01      city scrape   \n",
              "\n",
              "                                                name  \\\n",
              "0  Rental unit in Brooklyn  Â· â\n",
              "4.80 Â· 1 bedro...   \n",
              "1  Rental unit in New York Â· 1 bedroom Â· 1 bed ...   \n",
              "2  Rental unit in Queens Â· Studio Â· 1 bed Â· 1 ...   \n",
              "3  Rental unit in Brooklyn Â· 1 bedroom Â· 1 bed ...   \n",
              "4  Rental unit in Brooklyn Â· â\n",
              "4.98 Â· 1 bedroo...   \n",
              "\n",
              "                                         description  \\\n",
              "0  Enjoy your own private bedroom in our 2 bedroo...   \n",
              "1  Come stay in the heart of historic Hells Kitch...   \n",
              "2  Studio Apartment in the heart of Sunnyside: of...   \n",
              "3  Light-filled, high-ceilinged 1BR brownstone ap...   \n",
              "4  This is a comfortable super spacious sunny 1 b...   \n",
              "\n",
              "                               neighborhood_overview  \\\n",
              "0       Easy access to subway. Trendy and yet quiet.   \n",
              "1                                                NaN   \n",
              "2                                                NaN   \n",
              "3  The neighborhood is vibrant, multicultural, an...   \n",
              "4  Welcome to the enchanting neighborhood of Stuy...   \n",
              "\n",
              "                                         picture_url   host_id  ...  \\\n",
              "0  https://a0.muscache.com/pictures/496cf3f1-7d0d...  47783628  ...   \n",
              "1  https://a0.muscache.com/pictures/45157664/862a...  17791294  ...   \n",
              "2  https://a0.muscache.com/pictures/81a96b92-d357...  50213378  ...   \n",
              "3  https://a0.muscache.com/pictures/4e3ee5e2-baa1...   4298654  ...   \n",
              "4  https://a0.muscache.com/pictures/b187bce7-ded7...  67373899  ...   \n",
              "\n",
              "  review_scores_communication review_scores_location review_scores_value  \\\n",
              "0                        5.00                   4.80                5.00   \n",
              "1                         NaN                    NaN                 NaN   \n",
              "2                         NaN                    NaN                 NaN   \n",
              "3                        5.00                   5.00                5.00   \n",
              "4                        4.91                   4.94                4.92   \n",
              "\n",
              "  license instant_bookable calculated_host_listings_count  \\\n",
              "0     NaN                f                              1   \n",
              "1     NaN                f                              1   \n",
              "2     NaN                f                              1   \n",
              "3     NaN                f                              1   \n",
              "4     NaN                f                              1   \n",
              "\n",
              "  calculated_host_listings_count_entire_homes  \\\n",
              "0                                           0   \n",
              "1                                           0   \n",
              "2                                           1   \n",
              "3                                           1   \n",
              "4                                           1   \n",
              "\n",
              "  calculated_host_listings_count_private_rooms  \\\n",
              "0                                            1   \n",
              "1                                            1   \n",
              "2                                            0   \n",
              "3                                            0   \n",
              "4                                            0   \n",
              "\n",
              "  calculated_host_listings_count_shared_rooms reviews_per_month  \n",
              "0                                           0              0.06  \n",
              "1                                           0               NaN  \n",
              "2                                           0               NaN  \n",
              "3                                           0              0.03  \n",
              "4                                           0              1.26  \n",
              "\n",
              "[5 rows x 75 columns]"
            ],
            "text/html": [
              "\n",
              "  <div id=\"df-860bf7b2-ebd6-407a-9d68-a28153397b9b\" class=\"colab-df-container\">\n",
              "    <div>\n",
              "<style scoped>\n",
              "    .dataframe tbody tr th:only-of-type {\n",
              "        vertical-align: middle;\n",
              "    }\n",
              "\n",
              "    .dataframe tbody tr th {\n",
              "        vertical-align: top;\n",
              "    }\n",
              "\n",
              "    .dataframe thead th {\n",
              "        text-align: right;\n",
              "    }\n",
              "</style>\n",
              "<table border=\"1\" class=\"dataframe\">\n",
              "  <thead>\n",
              "    <tr style=\"text-align: right;\">\n",
              "      <th></th>\n",
              "      <th>id</th>\n",
              "      <th>listing_url</th>\n",
              "      <th>scrape_id</th>\n",
              "      <th>last_scraped</th>\n",
              "      <th>source</th>\n",
              "      <th>name</th>\n",
              "      <th>description</th>\n",
              "      <th>neighborhood_overview</th>\n",
              "      <th>picture_url</th>\n",
              "      <th>host_id</th>\n",
              "      <th>...</th>\n",
              "      <th>review_scores_communication</th>\n",
              "      <th>review_scores_location</th>\n",
              "      <th>review_scores_value</th>\n",
              "      <th>license</th>\n",
              "      <th>instant_bookable</th>\n",
              "      <th>calculated_host_listings_count</th>\n",
              "      <th>calculated_host_listings_count_entire_homes</th>\n",
              "      <th>calculated_host_listings_count_private_rooms</th>\n",
              "      <th>calculated_host_listings_count_shared_rooms</th>\n",
              "      <th>reviews_per_month</th>\n",
              "    </tr>\n",
              "  </thead>\n",
              "  <tbody>\n",
              "    <tr>\n",
              "      <th>0</th>\n",
              "      <td>9630344</td>\n",
              "      <td>https://www.airbnb.com/rooms/9630344</td>\n",
              "      <td>20231001204715</td>\n",
              "      <td>2023-10-02</td>\n",
              "      <td>city scrape</td>\n",
              "      <td>Rental unit in Brooklyn  Â· â4.80 Â· 1 bedro...</td>\n",
              "      <td>Enjoy your own private bedroom in our 2 bedroo...</td>\n",
              "      <td>Easy access to subway. Trendy and yet quiet.</td>\n",
              "      <td>https://a0.muscache.com/pictures/496cf3f1-7d0d...</td>\n",
              "      <td>47783628</td>\n",
              "      <td>...</td>\n",
              "      <td>5.00</td>\n",
              "      <td>4.80</td>\n",
              "      <td>5.00</td>\n",
              "      <td>NaN</td>\n",
              "      <td>f</td>\n",
              "      <td>1</td>\n",
              "      <td>0</td>\n",
              "      <td>1</td>\n",
              "      <td>0</td>\n",
              "      <td>0.06</td>\n",
              "    </tr>\n",
              "    <tr>\n",
              "      <th>1</th>\n",
              "      <td>3533741</td>\n",
              "      <td>https://www.airbnb.com/rooms/3533741</td>\n",
              "      <td>20231001204715</td>\n",
              "      <td>2023-10-02</td>\n",
              "      <td>previous scrape</td>\n",
              "      <td>Rental unit in New York Â· 1 bedroom Â· 1 bed ...</td>\n",
              "      <td>Come stay in the heart of historic Hells Kitch...</td>\n",
              "      <td>NaN</td>\n",
              "      <td>https://a0.muscache.com/pictures/45157664/862a...</td>\n",
              "      <td>17791294</td>\n",
              "      <td>...</td>\n",
              "      <td>NaN</td>\n",
              "      <td>NaN</td>\n",
              "      <td>NaN</td>\n",
              "      <td>NaN</td>\n",
              "      <td>f</td>\n",
              "      <td>1</td>\n",
              "      <td>0</td>\n",
              "      <td>1</td>\n",
              "      <td>0</td>\n",
              "      <td>NaN</td>\n",
              "    </tr>\n",
              "    <tr>\n",
              "      <th>2</th>\n",
              "      <td>9731039</td>\n",
              "      <td>https://www.airbnb.com/rooms/9731039</td>\n",
              "      <td>20231001204715</td>\n",
              "      <td>2023-10-02</td>\n",
              "      <td>previous scrape</td>\n",
              "      <td>Rental unit in Queens Â· Studio Â· 1 bed Â· 1 ...</td>\n",
              "      <td>Studio Apartment in the heart of Sunnyside: of...</td>\n",
              "      <td>NaN</td>\n",
              "      <td>https://a0.muscache.com/pictures/81a96b92-d357...</td>\n",
              "      <td>50213378</td>\n",
              "      <td>...</td>\n",
              "      <td>NaN</td>\n",
              "      <td>NaN</td>\n",
              "      <td>NaN</td>\n",
              "      <td>NaN</td>\n",
              "      <td>f</td>\n",
              "      <td>1</td>\n",
              "      <td>1</td>\n",
              "      <td>0</td>\n",
              "      <td>0</td>\n",
              "      <td>NaN</td>\n",
              "    </tr>\n",
              "    <tr>\n",
              "      <th>3</th>\n",
              "      <td>21736164</td>\n",
              "      <td>https://www.airbnb.com/rooms/21736164</td>\n",
              "      <td>20231001204715</td>\n",
              "      <td>2023-10-02</td>\n",
              "      <td>previous scrape</td>\n",
              "      <td>Rental unit in Brooklyn Â· 1 bedroom Â· 1 bed ...</td>\n",
              "      <td>Light-filled, high-ceilinged 1BR brownstone ap...</td>\n",
              "      <td>The neighborhood is vibrant, multicultural, an...</td>\n",
              "      <td>https://a0.muscache.com/pictures/4e3ee5e2-baa1...</td>\n",
              "      <td>4298654</td>\n",
              "      <td>...</td>\n",
              "      <td>5.00</td>\n",
              "      <td>5.00</td>\n",
              "      <td>5.00</td>\n",
              "      <td>NaN</td>\n",
              "      <td>f</td>\n",
              "      <td>1</td>\n",
              "      <td>1</td>\n",
              "      <td>0</td>\n",
              "      <td>0</td>\n",
              "      <td>0.03</td>\n",
              "    </tr>\n",
              "    <tr>\n",
              "      <th>4</th>\n",
              "      <td>22280002</td>\n",
              "      <td>https://www.airbnb.com/rooms/22280002</td>\n",
              "      <td>20231001204715</td>\n",
              "      <td>2023-10-01</td>\n",
              "      <td>city scrape</td>\n",
              "      <td>Rental unit in Brooklyn Â· â4.98 Â· 1 bedroo...</td>\n",
              "      <td>This is a comfortable super spacious sunny 1 b...</td>\n",
              "      <td>Welcome to the enchanting neighborhood of Stuy...</td>\n",
              "      <td>https://a0.muscache.com/pictures/b187bce7-ded7...</td>\n",
              "      <td>67373899</td>\n",
              "      <td>...</td>\n",
              "      <td>4.91</td>\n",
              "      <td>4.94</td>\n",
              "      <td>4.92</td>\n",
              "      <td>NaN</td>\n",
              "      <td>f</td>\n",
              "      <td>1</td>\n",
              "      <td>1</td>\n",
              "      <td>0</td>\n",
              "      <td>0</td>\n",
              "      <td>1.26</td>\n",
              "    </tr>\n",
              "  </tbody>\n",
              "</table>\n",
              "<p>5 rows × 75 columns</p>\n",
              "</div>\n",
              "    <div class=\"colab-df-buttons\">\n",
              "\n",
              "  <div class=\"colab-df-container\">\n",
              "    <button class=\"colab-df-convert\" onclick=\"convertToInteractive('df-860bf7b2-ebd6-407a-9d68-a28153397b9b')\"\n",
              "            title=\"Convert this dataframe to an interactive table.\"\n",
              "            style=\"display:none;\">\n",
              "\n",
              "  <svg xmlns=\"http://www.w3.org/2000/svg\" height=\"24px\" viewBox=\"0 -960 960 960\">\n",
              "    <path d=\"M120-120v-720h720v720H120Zm60-500h600v-160H180v160Zm220 220h160v-160H400v160Zm0 220h160v-160H400v160ZM180-400h160v-160H180v160Zm440 0h160v-160H620v160ZM180-180h160v-160H180v160Zm440 0h160v-160H620v160Z\"/>\n",
              "  </svg>\n",
              "    </button>\n",
              "\n",
              "  <style>\n",
              "    .colab-df-container {\n",
              "      display:flex;\n",
              "      gap: 12px;\n",
              "    }\n",
              "\n",
              "    .colab-df-convert {\n",
              "      background-color: #E8F0FE;\n",
              "      border: none;\n",
              "      border-radius: 50%;\n",
              "      cursor: pointer;\n",
              "      display: none;\n",
              "      fill: #1967D2;\n",
              "      height: 32px;\n",
              "      padding: 0 0 0 0;\n",
              "      width: 32px;\n",
              "    }\n",
              "\n",
              "    .colab-df-convert:hover {\n",
              "      background-color: #E2EBFA;\n",
              "      box-shadow: 0px 1px 2px rgba(60, 64, 67, 0.3), 0px 1px 3px 1px rgba(60, 64, 67, 0.15);\n",
              "      fill: #174EA6;\n",
              "    }\n",
              "\n",
              "    .colab-df-buttons div {\n",
              "      margin-bottom: 4px;\n",
              "    }\n",
              "\n",
              "    [theme=dark] .colab-df-convert {\n",
              "      background-color: #3B4455;\n",
              "      fill: #D2E3FC;\n",
              "    }\n",
              "\n",
              "    [theme=dark] .colab-df-convert:hover {\n",
              "      background-color: #434B5C;\n",
              "      box-shadow: 0px 1px 3px 1px rgba(0, 0, 0, 0.15);\n",
              "      filter: drop-shadow(0px 1px 2px rgba(0, 0, 0, 0.3));\n",
              "      fill: #FFFFFF;\n",
              "    }\n",
              "  </style>\n",
              "\n",
              "    <script>\n",
              "      const buttonEl =\n",
              "        document.querySelector('#df-860bf7b2-ebd6-407a-9d68-a28153397b9b button.colab-df-convert');\n",
              "      buttonEl.style.display =\n",
              "        google.colab.kernel.accessAllowed ? 'block' : 'none';\n",
              "\n",
              "      async function convertToInteractive(key) {\n",
              "        const element = document.querySelector('#df-860bf7b2-ebd6-407a-9d68-a28153397b9b');\n",
              "        const dataTable =\n",
              "          await google.colab.kernel.invokeFunction('convertToInteractive',\n",
              "                                                    [key], {});\n",
              "        if (!dataTable) return;\n",
              "\n",
              "        const docLinkHtml = 'Like what you see? Visit the ' +\n",
              "          '<a target=\"_blank\" href=https://colab.research.google.com/notebooks/data_table.ipynb>data table notebook</a>'\n",
              "          + ' to learn more about interactive tables.';\n",
              "        element.innerHTML = '';\n",
              "        dataTable['output_type'] = 'display_data';\n",
              "        await google.colab.output.renderOutput(dataTable, element);\n",
              "        const docLink = document.createElement('div');\n",
              "        docLink.innerHTML = docLinkHtml;\n",
              "        element.appendChild(docLink);\n",
              "      }\n",
              "    </script>\n",
              "  </div>\n",
              "\n",
              "\n",
              "<div id=\"df-4b480da8-0709-4c34-b162-4ecde8e38008\">\n",
              "  <button class=\"colab-df-quickchart\" onclick=\"quickchart('df-4b480da8-0709-4c34-b162-4ecde8e38008')\"\n",
              "            title=\"Suggest charts.\"\n",
              "            style=\"display:none;\">\n",
              "\n",
              "<svg xmlns=\"http://www.w3.org/2000/svg\" height=\"24px\"viewBox=\"0 0 24 24\"\n",
              "     width=\"24px\">\n",
              "    <g>\n",
              "        <path d=\"M19 3H5c-1.1 0-2 .9-2 2v14c0 1.1.9 2 2 2h14c1.1 0 2-.9 2-2V5c0-1.1-.9-2-2-2zM9 17H7v-7h2v7zm4 0h-2V7h2v10zm4 0h-2v-4h2v4z\"/>\n",
              "    </g>\n",
              "</svg>\n",
              "  </button>\n",
              "\n",
              "<style>\n",
              "  .colab-df-quickchart {\n",
              "      --bg-color: #E8F0FE;\n",
              "      --fill-color: #1967D2;\n",
              "      --hover-bg-color: #E2EBFA;\n",
              "      --hover-fill-color: #174EA6;\n",
              "      --disabled-fill-color: #AAA;\n",
              "      --disabled-bg-color: #DDD;\n",
              "  }\n",
              "\n",
              "  [theme=dark] .colab-df-quickchart {\n",
              "      --bg-color: #3B4455;\n",
              "      --fill-color: #D2E3FC;\n",
              "      --hover-bg-color: #434B5C;\n",
              "      --hover-fill-color: #FFFFFF;\n",
              "      --disabled-bg-color: #3B4455;\n",
              "      --disabled-fill-color: #666;\n",
              "  }\n",
              "\n",
              "  .colab-df-quickchart {\n",
              "    background-color: var(--bg-color);\n",
              "    border: none;\n",
              "    border-radius: 50%;\n",
              "    cursor: pointer;\n",
              "    display: none;\n",
              "    fill: var(--fill-color);\n",
              "    height: 32px;\n",
              "    padding: 0;\n",
              "    width: 32px;\n",
              "  }\n",
              "\n",
              "  .colab-df-quickchart:hover {\n",
              "    background-color: var(--hover-bg-color);\n",
              "    box-shadow: 0 1px 2px rgba(60, 64, 67, 0.3), 0 1px 3px 1px rgba(60, 64, 67, 0.15);\n",
              "    fill: var(--button-hover-fill-color);\n",
              "  }\n",
              "\n",
              "  .colab-df-quickchart-complete:disabled,\n",
              "  .colab-df-quickchart-complete:disabled:hover {\n",
              "    background-color: var(--disabled-bg-color);\n",
              "    fill: var(--disabled-fill-color);\n",
              "    box-shadow: none;\n",
              "  }\n",
              "\n",
              "  .colab-df-spinner {\n",
              "    border: 2px solid var(--fill-color);\n",
              "    border-color: transparent;\n",
              "    border-bottom-color: var(--fill-color);\n",
              "    animation:\n",
              "      spin 1s steps(1) infinite;\n",
              "  }\n",
              "\n",
              "  @keyframes spin {\n",
              "    0% {\n",
              "      border-color: transparent;\n",
              "      border-bottom-color: var(--fill-color);\n",
              "      border-left-color: var(--fill-color);\n",
              "    }\n",
              "    20% {\n",
              "      border-color: transparent;\n",
              "      border-left-color: var(--fill-color);\n",
              "      border-top-color: var(--fill-color);\n",
              "    }\n",
              "    30% {\n",
              "      border-color: transparent;\n",
              "      border-left-color: var(--fill-color);\n",
              "      border-top-color: var(--fill-color);\n",
              "      border-right-color: var(--fill-color);\n",
              "    }\n",
              "    40% {\n",
              "      border-color: transparent;\n",
              "      border-right-color: var(--fill-color);\n",
              "      border-top-color: var(--fill-color);\n",
              "    }\n",
              "    60% {\n",
              "      border-color: transparent;\n",
              "      border-right-color: var(--fill-color);\n",
              "    }\n",
              "    80% {\n",
              "      border-color: transparent;\n",
              "      border-right-color: var(--fill-color);\n",
              "      border-bottom-color: var(--fill-color);\n",
              "    }\n",
              "    90% {\n",
              "      border-color: transparent;\n",
              "      border-bottom-color: var(--fill-color);\n",
              "    }\n",
              "  }\n",
              "</style>\n",
              "\n",
              "  <script>\n",
              "    async function quickchart(key) {\n",
              "      const quickchartButtonEl =\n",
              "        document.querySelector('#' + key + ' button');\n",
              "      quickchartButtonEl.disabled = true;  // To prevent multiple clicks.\n",
              "      quickchartButtonEl.classList.add('colab-df-spinner');\n",
              "      try {\n",
              "        const charts = await google.colab.kernel.invokeFunction(\n",
              "            'suggestCharts', [key], {});\n",
              "      } catch (error) {\n",
              "        console.error('Error during call to suggestCharts:', error);\n",
              "      }\n",
              "      quickchartButtonEl.classList.remove('colab-df-spinner');\n",
              "      quickchartButtonEl.classList.add('colab-df-quickchart-complete');\n",
              "    }\n",
              "    (() => {\n",
              "      let quickchartButtonEl =\n",
              "        document.querySelector('#df-4b480da8-0709-4c34-b162-4ecde8e38008 button');\n",
              "      quickchartButtonEl.style.display =\n",
              "        google.colab.kernel.accessAllowed ? 'block' : 'none';\n",
              "    })();\n",
              "  </script>\n",
              "</div>\n",
              "    </div>\n",
              "  </div>\n"
            ]
          },
          "metadata": {},
          "execution_count": 9
        }
      ]
    },
    {
      "cell_type": "code",
      "source": [
        "listings.info()"
      ],
      "metadata": {
        "colab": {
          "base_uri": "https://localhost:8080/"
        },
        "id": "HlrJVU5W5Clj",
        "outputId": "1dddc98a-0045-4d85-f946-af0c6d95ee87"
      },
      "execution_count": 10,
      "outputs": [
        {
          "output_type": "stream",
          "name": "stdout",
          "text": [
            "<class 'pandas.core.frame.DataFrame'>\n",
            "RangeIndex: 38792 entries, 0 to 38791\n",
            "Data columns (total 75 columns):\n",
            " #   Column                                        Non-Null Count  Dtype  \n",
            "---  ------                                        --------------  -----  \n",
            " 0   id                                            38792 non-null  int64  \n",
            " 1   listing_url                                   38792 non-null  object \n",
            " 2   scrape_id                                     38792 non-null  int64  \n",
            " 3   last_scraped                                  38792 non-null  object \n",
            " 4   source                                        38792 non-null  object \n",
            " 5   name                                          38792 non-null  object \n",
            " 6   description                                   38223 non-null  object \n",
            " 7   neighborhood_overview                         22556 non-null  object \n",
            " 8   picture_url                                   38792 non-null  object \n",
            " 9   host_id                                       38792 non-null  int64  \n",
            " 10  host_url                                      38792 non-null  object \n",
            " 11  host_name                                     38787 non-null  object \n",
            " 12  host_since                                    38787 non-null  object \n",
            " 13  host_location                                 30515 non-null  object \n",
            " 14  host_about                                    21643 non-null  object \n",
            " 15  host_response_time                            25618 non-null  object \n",
            " 16  host_response_rate                            25618 non-null  object \n",
            " 17  host_acceptance_rate                          26888 non-null  object \n",
            " 18  host_is_superhost                             38537 non-null  object \n",
            " 19  host_thumbnail_url                            38787 non-null  object \n",
            " 20  host_picture_url                              38787 non-null  object \n",
            " 21  host_neighbourhood                            31040 non-null  object \n",
            " 22  host_listings_count                           38787 non-null  float64\n",
            " 23  host_total_listings_count                     38787 non-null  float64\n",
            " 24  host_verifications                            38792 non-null  object \n",
            " 25  host_has_profile_pic                          38787 non-null  object \n",
            " 26  host_identity_verified                        38787 non-null  object \n",
            " 27  neighbourhood                                 22557 non-null  object \n",
            " 28  neighbourhood_cleansed                        38792 non-null  object \n",
            " 29  neighbourhood_group_cleansed                  38792 non-null  object \n",
            " 30  latitude                                      38792 non-null  float64\n",
            " 31  longitude                                     38792 non-null  float64\n",
            " 32  property_type                                 38792 non-null  object \n",
            " 33  room_type                                     38792 non-null  object \n",
            " 34  accommodates                                  38792 non-null  int64  \n",
            " 35  bathrooms                                     0 non-null      float64\n",
            " 36  bathrooms_text                                38750 non-null  object \n",
            " 37  bedrooms                                      21892 non-null  float64\n",
            " 38  beds                                          38129 non-null  float64\n",
            " 39  amenities                                     38792 non-null  object \n",
            " 40  price                                         38792 non-null  object \n",
            " 41  minimum_nights                                38792 non-null  int64  \n",
            " 42  maximum_nights                                38792 non-null  int64  \n",
            " 43  minimum_minimum_nights                        38792 non-null  int64  \n",
            " 44  maximum_minimum_nights                        38792 non-null  int64  \n",
            " 45  minimum_maximum_nights                        38792 non-null  int64  \n",
            " 46  maximum_maximum_nights                        38792 non-null  int64  \n",
            " 47  minimum_nights_avg_ntm                        38792 non-null  float64\n",
            " 48  maximum_nights_avg_ntm                        38792 non-null  float64\n",
            " 49  calendar_updated                              0 non-null      float64\n",
            " 50  has_availability                              38792 non-null  object \n",
            " 51  availability_30                               38792 non-null  int64  \n",
            " 52  availability_60                               38792 non-null  int64  \n",
            " 53  availability_90                               38792 non-null  int64  \n",
            " 54  availability_365                              38792 non-null  int64  \n",
            " 55  calendar_last_scraped                         38792 non-null  object \n",
            " 56  number_of_reviews                             38792 non-null  int64  \n",
            " 57  number_of_reviews_ltm                         38792 non-null  int64  \n",
            " 58  number_of_reviews_l30d                        38792 non-null  int64  \n",
            " 59  first_review                                  28440 non-null  object \n",
            " 60  last_review                                   28440 non-null  object \n",
            " 61  review_scores_rating                          28445 non-null  float64\n",
            " 62  review_scores_accuracy                        28030 non-null  float64\n",
            " 63  review_scores_cleanliness                     28040 non-null  float64\n",
            " 64  review_scores_checkin                         28026 non-null  float64\n",
            " 65  review_scores_communication                   28034 non-null  float64\n",
            " 66  review_scores_location                        28023 non-null  float64\n",
            " 67  review_scores_value                           28024 non-null  float64\n",
            " 68  license                                       2939 non-null   object \n",
            " 69  instant_bookable                              38792 non-null  object \n",
            " 70  calculated_host_listings_count                38792 non-null  int64  \n",
            " 71  calculated_host_listings_count_entire_homes   38792 non-null  int64  \n",
            " 72  calculated_host_listings_count_private_rooms  38792 non-null  int64  \n",
            " 73  calculated_host_listings_count_shared_rooms   38792 non-null  int64  \n",
            " 74  reviews_per_month                             28440 non-null  float64\n",
            "dtypes: float64(18), int64(21), object(36)\n",
            "memory usage: 22.2+ MB\n"
          ]
        }
      ]
    },
    {
      "cell_type": "code",
      "source": [
        "columns_to_keep = ['id', 'name', 'host_id', 'host_name', 'neighbourhood_group_cleansed',\n",
        "                   'neighbourhood', 'latitude', 'longitude', 'room_type',\n",
        "                   'price', 'minimum_nights', 'number_of_reviews',\n",
        "                   'last_review', 'reviews_per_month',\n",
        "                   'calculated_host_listings_count']\n",
        "\n",
        "listings = listings[columns_to_keep]"
      ],
      "metadata": {
        "id": "WDXI0cH5ZpxL"
      },
      "execution_count": 11,
      "outputs": []
    },
    {
      "cell_type": "markdown",
      "source": [
        "**# Handling Missing values**\n",
        "\n",
        "#Drop rows with any missing values"
      ],
      "metadata": {
        "id": "DHTQJRe25vs2"
      }
    },
    {
      "cell_type": "code",
      "source": [
        "from numpy.core.fromnumeric import mean\n",
        "numeric_columns = listings.select_dtypes(include=[np.number]).columns\n",
        "listings[numeric_columns] = listings[numeric_columns].fillna(listings[numeric_columns].mean())\n"
      ],
      "metadata": {
        "id": "-7vBryyD5cag",
        "colab": {
          "base_uri": "https://localhost:8080/"
        },
        "outputId": "ae00c3e6-a142-41b8-f9ae-077c12313dad"
      },
      "execution_count": 12,
      "outputs": [
        {
          "output_type": "stream",
          "name": "stderr",
          "text": [
            "<ipython-input-12-42b69cf2dd72>:3: SettingWithCopyWarning: \n",
            "A value is trying to be set on a copy of a slice from a DataFrame.\n",
            "Try using .loc[row_indexer,col_indexer] = value instead\n",
            "\n",
            "See the caveats in the documentation: https://pandas.pydata.org/pandas-docs/stable/user_guide/indexing.html#returning-a-view-versus-a-copy\n",
            "  listings[numeric_columns] = listings[numeric_columns].fillna(listings[numeric_columns].mean())\n"
          ]
        }
      ]
    },
    {
      "cell_type": "markdown",
      "source": [],
      "metadata": {
        "id": "LUKF11tAFhGc"
      }
    },
    {
      "cell_type": "markdown",
      "source": [
        "#Data Type Conversion"
      ],
      "metadata": {
        "id": "Hw1mHWtI6U15"
      }
    },
    {
      "cell_type": "code",
      "source": [
        "#Convert price to float\n",
        "listings['price'] = listings['price'].astype(str).replace('\\$','', regex = True).astype(str).replace(',','', regex=True).astype(float)"
      ],
      "metadata": {
        "id": "2cAuhKnn6T9p"
      },
      "execution_count": 13,
      "outputs": []
    },
    {
      "cell_type": "markdown",
      "source": [
        "#Drop Duplicates"
      ],
      "metadata": {
        "id": "1azEyCfY8GmS"
      }
    },
    {
      "cell_type": "code",
      "source": [
        "listings.drop_duplicates(inplace=True)\n"
      ],
      "metadata": {
        "id": "h9qd3t8A8KBr"
      },
      "execution_count": 14,
      "outputs": []
    },
    {
      "cell_type": "code",
      "source": [
        "listings['price'] = winsorize(listings['price'], limits=[0, 0.05])"
      ],
      "metadata": {
        "id": "6lA6dDaut2rh"
      },
      "execution_count": 15,
      "outputs": []
    },
    {
      "cell_type": "markdown",
      "source": [
        "# **DATA ANALYSIS**"
      ],
      "metadata": {
        "id": "GXpkS3zxDFx5"
      }
    },
    {
      "cell_type": "code",
      "source": [
        "listings.shape"
      ],
      "metadata": {
        "colab": {
          "base_uri": "https://localhost:8080/"
        },
        "id": "3i6DGFfE8XXa",
        "outputId": "8056ebd0-08ed-4546-c80a-dc09e7291bcb"
      },
      "execution_count": 16,
      "outputs": [
        {
          "output_type": "execute_result",
          "data": {
            "text/plain": [
              "(38792, 15)"
            ]
          },
          "metadata": {},
          "execution_count": 16
        }
      ]
    },
    {
      "cell_type": "code",
      "source": [
        "listings.describe()"
      ],
      "metadata": {
        "colab": {
          "base_uri": "https://localhost:8080/",
          "height": 439
        },
        "id": "cTs09vf3L2OV",
        "outputId": "5b775a7c-9515-4775-e432-9f3a953cee24"
      },
      "execution_count": 17,
      "outputs": [
        {
          "output_type": "stream",
          "name": "stderr",
          "text": [
            "/usr/local/lib/python3.10/dist-packages/numpy/lib/function_base.py:4691: UserWarning: Warning: 'partition' will ignore the 'mask' of the MaskedArray.\n",
            "  arr.partition(\n",
            "/usr/local/lib/python3.10/dist-packages/numpy/lib/function_base.py:4691: UserWarning: Warning: 'partition' will ignore the 'mask' of the MaskedArray.\n",
            "  arr.partition(\n",
            "/usr/local/lib/python3.10/dist-packages/numpy/lib/function_base.py:4691: UserWarning: Warning: 'partition' will ignore the 'mask' of the MaskedArray.\n",
            "  arr.partition(\n",
            "/usr/local/lib/python3.10/dist-packages/numpy/lib/function_base.py:4691: UserWarning: Warning: 'partition' will ignore the 'mask' of the MaskedArray.\n",
            "  arr.partition(\n"
          ]
        },
        {
          "output_type": "execute_result",
          "data": {
            "text/plain": [
              "                 id       host_id      latitude     longitude         price  \\\n",
              "count  3.879200e+04  3.879200e+04  38792.000000  38792.000000  38792.000000   \n",
              "mean   2.820216e+17  1.558350e+08     40.729379    -73.945829    178.896319   \n",
              "std    3.854980e+17  1.676485e+08      0.056725      0.055115    141.800082   \n",
              "min    2.595000e+03  1.678000e+03     40.500314    -74.251907      0.000000   \n",
              "25%    1.976673e+07  1.643725e+07     40.688790    -73.982820     79.000000   \n",
              "50%    4.542122e+07  7.616643e+07     40.726290    -73.953886    135.000000   \n",
              "75%    7.208503e+17  2.754027e+08     40.762672    -73.926209    225.000000   \n",
              "max    9.927295e+17  5.395985e+08     40.911380    -73.713650    586.000000   \n",
              "\n",
              "       minimum_nights  number_of_reviews  reviews_per_month  \\\n",
              "count    38792.000000       38792.000000       38792.000000   \n",
              "mean        30.639977          25.356285           1.078758   \n",
              "std         26.633260          55.852480           1.414338   \n",
              "min          1.000000           0.000000           0.010000   \n",
              "25%         30.000000           0.000000           0.190000   \n",
              "50%         30.000000           4.000000           1.040000   \n",
              "75%         30.000000          24.000000           1.078758   \n",
              "max       1250.000000        1843.000000          62.820000   \n",
              "\n",
              "       calculated_host_listings_count  \n",
              "count                    38792.000000  \n",
              "mean                        38.581563  \n",
              "std                        113.306079  \n",
              "min                          1.000000  \n",
              "25%                          1.000000  \n",
              "50%                          1.000000  \n",
              "75%                          6.000000  \n",
              "max                        602.000000  "
            ],
            "text/html": [
              "\n",
              "  <div id=\"df-b4325048-6c8e-4786-9514-b7739b067d83\" class=\"colab-df-container\">\n",
              "    <div>\n",
              "<style scoped>\n",
              "    .dataframe tbody tr th:only-of-type {\n",
              "        vertical-align: middle;\n",
              "    }\n",
              "\n",
              "    .dataframe tbody tr th {\n",
              "        vertical-align: top;\n",
              "    }\n",
              "\n",
              "    .dataframe thead th {\n",
              "        text-align: right;\n",
              "    }\n",
              "</style>\n",
              "<table border=\"1\" class=\"dataframe\">\n",
              "  <thead>\n",
              "    <tr style=\"text-align: right;\">\n",
              "      <th></th>\n",
              "      <th>id</th>\n",
              "      <th>host_id</th>\n",
              "      <th>latitude</th>\n",
              "      <th>longitude</th>\n",
              "      <th>price</th>\n",
              "      <th>minimum_nights</th>\n",
              "      <th>number_of_reviews</th>\n",
              "      <th>reviews_per_month</th>\n",
              "      <th>calculated_host_listings_count</th>\n",
              "    </tr>\n",
              "  </thead>\n",
              "  <tbody>\n",
              "    <tr>\n",
              "      <th>count</th>\n",
              "      <td>3.879200e+04</td>\n",
              "      <td>3.879200e+04</td>\n",
              "      <td>38792.000000</td>\n",
              "      <td>38792.000000</td>\n",
              "      <td>38792.000000</td>\n",
              "      <td>38792.000000</td>\n",
              "      <td>38792.000000</td>\n",
              "      <td>38792.000000</td>\n",
              "      <td>38792.000000</td>\n",
              "    </tr>\n",
              "    <tr>\n",
              "      <th>mean</th>\n",
              "      <td>2.820216e+17</td>\n",
              "      <td>1.558350e+08</td>\n",
              "      <td>40.729379</td>\n",
              "      <td>-73.945829</td>\n",
              "      <td>178.896319</td>\n",
              "      <td>30.639977</td>\n",
              "      <td>25.356285</td>\n",
              "      <td>1.078758</td>\n",
              "      <td>38.581563</td>\n",
              "    </tr>\n",
              "    <tr>\n",
              "      <th>std</th>\n",
              "      <td>3.854980e+17</td>\n",
              "      <td>1.676485e+08</td>\n",
              "      <td>0.056725</td>\n",
              "      <td>0.055115</td>\n",
              "      <td>141.800082</td>\n",
              "      <td>26.633260</td>\n",
              "      <td>55.852480</td>\n",
              "      <td>1.414338</td>\n",
              "      <td>113.306079</td>\n",
              "    </tr>\n",
              "    <tr>\n",
              "      <th>min</th>\n",
              "      <td>2.595000e+03</td>\n",
              "      <td>1.678000e+03</td>\n",
              "      <td>40.500314</td>\n",
              "      <td>-74.251907</td>\n",
              "      <td>0.000000</td>\n",
              "      <td>1.000000</td>\n",
              "      <td>0.000000</td>\n",
              "      <td>0.010000</td>\n",
              "      <td>1.000000</td>\n",
              "    </tr>\n",
              "    <tr>\n",
              "      <th>25%</th>\n",
              "      <td>1.976673e+07</td>\n",
              "      <td>1.643725e+07</td>\n",
              "      <td>40.688790</td>\n",
              "      <td>-73.982820</td>\n",
              "      <td>79.000000</td>\n",
              "      <td>30.000000</td>\n",
              "      <td>0.000000</td>\n",
              "      <td>0.190000</td>\n",
              "      <td>1.000000</td>\n",
              "    </tr>\n",
              "    <tr>\n",
              "      <th>50%</th>\n",
              "      <td>4.542122e+07</td>\n",
              "      <td>7.616643e+07</td>\n",
              "      <td>40.726290</td>\n",
              "      <td>-73.953886</td>\n",
              "      <td>135.000000</td>\n",
              "      <td>30.000000</td>\n",
              "      <td>4.000000</td>\n",
              "      <td>1.040000</td>\n",
              "      <td>1.000000</td>\n",
              "    </tr>\n",
              "    <tr>\n",
              "      <th>75%</th>\n",
              "      <td>7.208503e+17</td>\n",
              "      <td>2.754027e+08</td>\n",
              "      <td>40.762672</td>\n",
              "      <td>-73.926209</td>\n",
              "      <td>225.000000</td>\n",
              "      <td>30.000000</td>\n",
              "      <td>24.000000</td>\n",
              "      <td>1.078758</td>\n",
              "      <td>6.000000</td>\n",
              "    </tr>\n",
              "    <tr>\n",
              "      <th>max</th>\n",
              "      <td>9.927295e+17</td>\n",
              "      <td>5.395985e+08</td>\n",
              "      <td>40.911380</td>\n",
              "      <td>-73.713650</td>\n",
              "      <td>586.000000</td>\n",
              "      <td>1250.000000</td>\n",
              "      <td>1843.000000</td>\n",
              "      <td>62.820000</td>\n",
              "      <td>602.000000</td>\n",
              "    </tr>\n",
              "  </tbody>\n",
              "</table>\n",
              "</div>\n",
              "    <div class=\"colab-df-buttons\">\n",
              "\n",
              "  <div class=\"colab-df-container\">\n",
              "    <button class=\"colab-df-convert\" onclick=\"convertToInteractive('df-b4325048-6c8e-4786-9514-b7739b067d83')\"\n",
              "            title=\"Convert this dataframe to an interactive table.\"\n",
              "            style=\"display:none;\">\n",
              "\n",
              "  <svg xmlns=\"http://www.w3.org/2000/svg\" height=\"24px\" viewBox=\"0 -960 960 960\">\n",
              "    <path d=\"M120-120v-720h720v720H120Zm60-500h600v-160H180v160Zm220 220h160v-160H400v160Zm0 220h160v-160H400v160ZM180-400h160v-160H180v160Zm440 0h160v-160H620v160ZM180-180h160v-160H180v160Zm440 0h160v-160H620v160Z\"/>\n",
              "  </svg>\n",
              "    </button>\n",
              "\n",
              "  <style>\n",
              "    .colab-df-container {\n",
              "      display:flex;\n",
              "      gap: 12px;\n",
              "    }\n",
              "\n",
              "    .colab-df-convert {\n",
              "      background-color: #E8F0FE;\n",
              "      border: none;\n",
              "      border-radius: 50%;\n",
              "      cursor: pointer;\n",
              "      display: none;\n",
              "      fill: #1967D2;\n",
              "      height: 32px;\n",
              "      padding: 0 0 0 0;\n",
              "      width: 32px;\n",
              "    }\n",
              "\n",
              "    .colab-df-convert:hover {\n",
              "      background-color: #E2EBFA;\n",
              "      box-shadow: 0px 1px 2px rgba(60, 64, 67, 0.3), 0px 1px 3px 1px rgba(60, 64, 67, 0.15);\n",
              "      fill: #174EA6;\n",
              "    }\n",
              "\n",
              "    .colab-df-buttons div {\n",
              "      margin-bottom: 4px;\n",
              "    }\n",
              "\n",
              "    [theme=dark] .colab-df-convert {\n",
              "      background-color: #3B4455;\n",
              "      fill: #D2E3FC;\n",
              "    }\n",
              "\n",
              "    [theme=dark] .colab-df-convert:hover {\n",
              "      background-color: #434B5C;\n",
              "      box-shadow: 0px 1px 3px 1px rgba(0, 0, 0, 0.15);\n",
              "      filter: drop-shadow(0px 1px 2px rgba(0, 0, 0, 0.3));\n",
              "      fill: #FFFFFF;\n",
              "    }\n",
              "  </style>\n",
              "\n",
              "    <script>\n",
              "      const buttonEl =\n",
              "        document.querySelector('#df-b4325048-6c8e-4786-9514-b7739b067d83 button.colab-df-convert');\n",
              "      buttonEl.style.display =\n",
              "        google.colab.kernel.accessAllowed ? 'block' : 'none';\n",
              "\n",
              "      async function convertToInteractive(key) {\n",
              "        const element = document.querySelector('#df-b4325048-6c8e-4786-9514-b7739b067d83');\n",
              "        const dataTable =\n",
              "          await google.colab.kernel.invokeFunction('convertToInteractive',\n",
              "                                                    [key], {});\n",
              "        if (!dataTable) return;\n",
              "\n",
              "        const docLinkHtml = 'Like what you see? Visit the ' +\n",
              "          '<a target=\"_blank\" href=https://colab.research.google.com/notebooks/data_table.ipynb>data table notebook</a>'\n",
              "          + ' to learn more about interactive tables.';\n",
              "        element.innerHTML = '';\n",
              "        dataTable['output_type'] = 'display_data';\n",
              "        await google.colab.output.renderOutput(dataTable, element);\n",
              "        const docLink = document.createElement('div');\n",
              "        docLink.innerHTML = docLinkHtml;\n",
              "        element.appendChild(docLink);\n",
              "      }\n",
              "    </script>\n",
              "  </div>\n",
              "\n",
              "\n",
              "<div id=\"df-c227a2f4-bd55-4739-a917-f0977db90396\">\n",
              "  <button class=\"colab-df-quickchart\" onclick=\"quickchart('df-c227a2f4-bd55-4739-a917-f0977db90396')\"\n",
              "            title=\"Suggest charts.\"\n",
              "            style=\"display:none;\">\n",
              "\n",
              "<svg xmlns=\"http://www.w3.org/2000/svg\" height=\"24px\"viewBox=\"0 0 24 24\"\n",
              "     width=\"24px\">\n",
              "    <g>\n",
              "        <path d=\"M19 3H5c-1.1 0-2 .9-2 2v14c0 1.1.9 2 2 2h14c1.1 0 2-.9 2-2V5c0-1.1-.9-2-2-2zM9 17H7v-7h2v7zm4 0h-2V7h2v10zm4 0h-2v-4h2v4z\"/>\n",
              "    </g>\n",
              "</svg>\n",
              "  </button>\n",
              "\n",
              "<style>\n",
              "  .colab-df-quickchart {\n",
              "      --bg-color: #E8F0FE;\n",
              "      --fill-color: #1967D2;\n",
              "      --hover-bg-color: #E2EBFA;\n",
              "      --hover-fill-color: #174EA6;\n",
              "      --disabled-fill-color: #AAA;\n",
              "      --disabled-bg-color: #DDD;\n",
              "  }\n",
              "\n",
              "  [theme=dark] .colab-df-quickchart {\n",
              "      --bg-color: #3B4455;\n",
              "      --fill-color: #D2E3FC;\n",
              "      --hover-bg-color: #434B5C;\n",
              "      --hover-fill-color: #FFFFFF;\n",
              "      --disabled-bg-color: #3B4455;\n",
              "      --disabled-fill-color: #666;\n",
              "  }\n",
              "\n",
              "  .colab-df-quickchart {\n",
              "    background-color: var(--bg-color);\n",
              "    border: none;\n",
              "    border-radius: 50%;\n",
              "    cursor: pointer;\n",
              "    display: none;\n",
              "    fill: var(--fill-color);\n",
              "    height: 32px;\n",
              "    padding: 0;\n",
              "    width: 32px;\n",
              "  }\n",
              "\n",
              "  .colab-df-quickchart:hover {\n",
              "    background-color: var(--hover-bg-color);\n",
              "    box-shadow: 0 1px 2px rgba(60, 64, 67, 0.3), 0 1px 3px 1px rgba(60, 64, 67, 0.15);\n",
              "    fill: var(--button-hover-fill-color);\n",
              "  }\n",
              "\n",
              "  .colab-df-quickchart-complete:disabled,\n",
              "  .colab-df-quickchart-complete:disabled:hover {\n",
              "    background-color: var(--disabled-bg-color);\n",
              "    fill: var(--disabled-fill-color);\n",
              "    box-shadow: none;\n",
              "  }\n",
              "\n",
              "  .colab-df-spinner {\n",
              "    border: 2px solid var(--fill-color);\n",
              "    border-color: transparent;\n",
              "    border-bottom-color: var(--fill-color);\n",
              "    animation:\n",
              "      spin 1s steps(1) infinite;\n",
              "  }\n",
              "\n",
              "  @keyframes spin {\n",
              "    0% {\n",
              "      border-color: transparent;\n",
              "      border-bottom-color: var(--fill-color);\n",
              "      border-left-color: var(--fill-color);\n",
              "    }\n",
              "    20% {\n",
              "      border-color: transparent;\n",
              "      border-left-color: var(--fill-color);\n",
              "      border-top-color: var(--fill-color);\n",
              "    }\n",
              "    30% {\n",
              "      border-color: transparent;\n",
              "      border-left-color: var(--fill-color);\n",
              "      border-top-color: var(--fill-color);\n",
              "      border-right-color: var(--fill-color);\n",
              "    }\n",
              "    40% {\n",
              "      border-color: transparent;\n",
              "      border-right-color: var(--fill-color);\n",
              "      border-top-color: var(--fill-color);\n",
              "    }\n",
              "    60% {\n",
              "      border-color: transparent;\n",
              "      border-right-color: var(--fill-color);\n",
              "    }\n",
              "    80% {\n",
              "      border-color: transparent;\n",
              "      border-right-color: var(--fill-color);\n",
              "      border-bottom-color: var(--fill-color);\n",
              "    }\n",
              "    90% {\n",
              "      border-color: transparent;\n",
              "      border-bottom-color: var(--fill-color);\n",
              "    }\n",
              "  }\n",
              "</style>\n",
              "\n",
              "  <script>\n",
              "    async function quickchart(key) {\n",
              "      const quickchartButtonEl =\n",
              "        document.querySelector('#' + key + ' button');\n",
              "      quickchartButtonEl.disabled = true;  // To prevent multiple clicks.\n",
              "      quickchartButtonEl.classList.add('colab-df-spinner');\n",
              "      try {\n",
              "        const charts = await google.colab.kernel.invokeFunction(\n",
              "            'suggestCharts', [key], {});\n",
              "      } catch (error) {\n",
              "        console.error('Error during call to suggestCharts:', error);\n",
              "      }\n",
              "      quickchartButtonEl.classList.remove('colab-df-spinner');\n",
              "      quickchartButtonEl.classList.add('colab-df-quickchart-complete');\n",
              "    }\n",
              "    (() => {\n",
              "      let quickchartButtonEl =\n",
              "        document.querySelector('#df-c227a2f4-bd55-4739-a917-f0977db90396 button');\n",
              "      quickchartButtonEl.style.display =\n",
              "        google.colab.kernel.accessAllowed ? 'block' : 'none';\n",
              "    })();\n",
              "  </script>\n",
              "</div>\n",
              "    </div>\n",
              "  </div>\n"
            ]
          },
          "metadata": {},
          "execution_count": 17
        }
      ]
    },
    {
      "cell_type": "code",
      "source": [
        "plt.hist(listings['price'], bins = 50)\n",
        "plt.xlabel('Price')\n",
        "plt.ylabel('Frequency')\n",
        "plt.title('Distribution of Prices')\n",
        "plt.show()"
      ],
      "metadata": {
        "colab": {
          "base_uri": "https://localhost:8080/",
          "height": 472
        },
        "id": "ulNVy-hpL-_H",
        "outputId": "027aaee1-41af-4326-8e0a-bb4cdb4dfdda"
      },
      "execution_count": 18,
      "outputs": [
        {
          "output_type": "display_data",
          "data": {
            "text/plain": [
              "<Figure size 640x480 with 1 Axes>"
            ],
            "image/png": "[encoded data removed]"
          },
          "metadata": {}
        }
      ]
    },
    {
      "cell_type": "code",
      "source": [
        "sns.boxplot(x='neighbourhood_group_cleansed', y='price', data = listings)\n",
        "plt.xticks(rotation = 90)\n",
        "plt.title('Price Distribution by Neighbourhood Group')\n",
        "plt.show()"
      ],
      "metadata": {
        "colab": {
          "base_uri": "https://localhost:8080/",
          "height": 549
        },
        "id": "HNMztR6OMl60",
        "outputId": "1dcbb03b-9f62-4d4d-9c90-aff78c9f4837"
      },
      "execution_count": 19,
      "outputs": [
        {
          "output_type": "display_data",
          "data": {
            "text/plain": [
              "<Figure size 640x480 with 1 Axes>"
            ],
            "image/png": "[encoded data removed]"
          },
          "metadata": {}
        }
      ]
    },
    {
      "cell_type": "code",
      "source": [
        "plt.scatter(listings['price'],listings['number_of_reviews'])\n",
        "plt.xlabel('Price')\n",
        "plt.ylabel('Number of Reviews')\n",
        "plt.title('Price vs Number of Reviews')\n",
        "plt.show()"
      ],
      "metadata": {
        "colab": {
          "base_uri": "https://localhost:8080/",
          "height": 472
        },
        "id": "6feXEz19SeKD",
        "outputId": "4bc8fdc1-20b5-4c90-ac9e-a98b2b3dcde0"
      },
      "execution_count": 25,
      "outputs": [
        {
          "output_type": "display_data",
          "data": {
            "text/plain": [
              "<Figure size 640x480 with 1 Axes>"
            ],
            "image/png": "[encoded data removed]"
          },
          "metadata": {}
        }
      ]
    },
    {
      "cell_type": "code",
      "source": [
        "avg_prices = listings.groupby('room_type')['price'].mean()\n",
        "avg_prices.plot(kind ='bar')\n",
        "plt.ylabel('Average Price')\n",
        "plt.title('Average Price by Room Type')\n",
        "plt.show()"
      ],
      "metadata": {
        "colab": {
          "base_uri": "https://localhost:8080/",
          "height": 570
        },
        "id": "2D3WLEWGTRuy",
        "outputId": "511a20fd-f5dc-4bc9-b70b-633c635aa245"
      },
      "execution_count": 21,
      "outputs": [
        {
          "output_type": "display_data",
          "data": {
            "text/plain": [
              "<Figure size 640x480 with 1 Axes>"
            ],
            "image/png": "[encoded data removed]"
          },
          "metadata": {}
        }
      ]
    },
    {
      "cell_type": "code",
      "source": [
        "numeric_columns = listings.select_dtypes(include=[np.number]).columns\n",
        "corr = listings[numeric_columns].corr()\n",
        "sns.heatmap(corr, xticklabels = corr.columns, yticklabels = corr.columns, cmap = 'RdBu')"
      ],
      "metadata": {
        "colab": {
          "base_uri": "https://localhost:8080/",
          "height": 649
        },
        "id": "bvXm8pIlU9bo",
        "outputId": "65c8d205-e2a0-4069-f520-157e0dd3b59c"
      },
      "execution_count": 22,
      "outputs": [
        {
          "output_type": "execute_result",
          "data": {
            "text/plain": [
              "<Axes: >"
            ]
          },
          "metadata": {},
          "execution_count": 22
        },
        {
          "output_type": "display_data",
          "data": {
            "text/plain": [
              "<Figure size 640x480 with 2 Axes>"
            ],
            "image/png": "[encoded data removed]"
          },
          "metadata": {}
        }
      ]
    },
    {
      "cell_type": "code",
      "source": [
        "top_neighbourhoods = listings['neighbourhood_group_cleansed'].value_counts()\n",
        "# Plot the number of listings in these neighbourhoods\n",
        "top_neighbourhoods.plot(kind='bar')\n",
        "plt.title('Number of Listings of Top Neighbourhoods')\n",
        "plt.xlabel('Neighbourhood')\n",
        "plt.ylabel('Number of Listings')\n",
        "plt.show()\n"
      ],
      "metadata": {
        "colab": {
          "base_uri": "https://localhost:8080/",
          "height": 549
        },
        "id": "mM1Q2LmBfxGk",
        "outputId": "1810eab0-7f1f-4cc0-e4cb-949c40ea7cdc"
      },
      "execution_count": 23,
      "outputs": [
        {
          "output_type": "display_data",
          "data": {
            "text/plain": [
              "<Figure size 640x480 with 1 Axes>"
            ],
            "image/png": "[encoded data removed]"
          },
          "metadata": {}
        }
      ]
    },
    {
      "cell_type": "code",
      "source": [],
      "metadata": {
        "id": "8WTz_YjzfyPa"
      },
      "execution_count": 23,
      "outputs": []
    }
  ]
}